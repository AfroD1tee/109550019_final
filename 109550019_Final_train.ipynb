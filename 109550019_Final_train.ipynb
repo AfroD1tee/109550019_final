{
 "cells": [
  {
   "cell_type": "code",
   "execution_count": 299,
   "id": "8149c80b",
   "metadata": {
    "_cell_guid": "b1076dfc-b9ad-4769-8c92-a6c4dae69d19",
    "_uuid": "8f2839f25d086af736a60e9eeb907d3b93b6e0e5",
    "execution": {
     "iopub.execute_input": "2022-11-25T04:50:23.963305Z",
     "iopub.status.busy": "2022-11-25T04:50:23.962647Z",
     "iopub.status.idle": "2022-11-25T04:50:30.869958Z",
     "shell.execute_reply": "2022-11-25T04:50:30.868519Z"
    },
    "papermill": {
     "duration": 6.916649,
     "end_time": "2022-11-25T04:50:30.872717",
     "exception": false,
     "start_time": "2022-11-25T04:50:23.956068",
     "status": "completed"
    },
    "tags": []
   },
   "outputs": [],
   "source": [
    "# This Python 3 environment comes with many helpful analytics libraries installed\n",
    "# It is defined by the kaggle/python Docker image: https://github.com/kaggle/docker-python\n",
    "# For example, here's several helpful packages to load\n",
    "\n",
    "import numpy as np  # linear algebra\n",
    "import pandas as pd  # data processing, CSV file I/O (e.g. pd.read_csv)\n",
    "\n",
    "# Input data files are available in the read-only \"../input/\" directory\n",
    "# For example, running this (by clicking run or pressing Shift+Enter) will list all files under the input directory\n",
    "\n",
    "import os\n",
    "\n",
    "for dirname, _, filenames in os.walk('/kaggle/input'):\n",
    "    for filename in filenames[:3]:\n",
    "        print(os.path.join(dirname, filename))\n",
    "    if len(filenames) > 3:\n",
    "        print(\"...\")\n",
    "\n",
    "# You can write up to 20GB to the current directory (/kaggle/working/) that gets preserved as output when you create a version using \"Save & Run All\" \n",
    "# You can also write temporary files to /kaggle/temp/, but they won't be saved outside of the current session"
   ]
  },
  {
   "cell_type": "code",
   "execution_count": 300,
   "id": "6b9cf651",
   "metadata": {
    "execution": {
     "iopub.execute_input": "2022-11-25T04:50:30.881823Z",
     "iopub.status.busy": "2022-11-25T04:50:30.881165Z",
     "iopub.status.idle": "2022-11-25T04:50:32.983521Z",
     "shell.execute_reply": "2022-11-25T04:50:32.982295Z"
    },
    "papermill": {
     "duration": 2.109989,
     "end_time": "2022-11-25T04:50:32.986527",
     "exception": false,
     "start_time": "2022-11-25T04:50:30.876538",
     "status": "completed"
    },
    "tags": []
   },
   "outputs": [],
   "source": [
    "import csv\n",
    "import cv2\n",
    "import numpy as np\n",
    "import random\n",
    "import os\n",
    "import matplotlib.pyplot as plt\n",
    "from tqdm.auto import tqdm\n",
    "import torch\n",
    "import torch.nn as nn\n",
    "from torch.utils.data import Dataset, DataLoader\n",
    "from sklearn.preprocessing import LabelEncoder\n",
    "from sklearn.model_selection import train_test_split\n",
    "from sklearn.impute import SimpleImputer\n",
    "from copy import deepcopy\n",
    "import tensorflow as tf\n",
    "import tensorflow.keras.layers as tfl\n",
    "# from __future__ import print_function, division\n",
    "import torch.optim as optim\n",
    "from torch.optim import lr_scheduler\n",
    "import torch.backends.cudnn as cudnn\n",
    "import torchvision\n",
    "from torchvision import datasets, models, transforms\n",
    "import time\n",
    "import copy\n",
    "\n",
    "# cudnn.benchmark = True\n",
    "# plt.ion()   # interactive mode\n",
    "# os.environ['CUDA_LAUNCH_BLOCKING'] = \"1\""
   ]
  },
  {
   "cell_type": "code",
   "execution_count": 301,
   "id": "e52fada5",
   "metadata": {
    "execution": {
     "iopub.execute_input": "2022-11-25T04:50:32.995956Z",
     "iopub.status.busy": "2022-11-25T04:50:32.994774Z",
     "iopub.status.idle": "2022-11-25T04:50:33.001735Z",
     "shell.execute_reply": "2022-11-25T04:50:33.000477Z"
    },
    "papermill": {
     "duration": 0.014176,
     "end_time": "2022-11-25T04:50:33.004252",
     "exception": false,
     "start_time": "2022-11-25T04:50:32.990076",
     "status": "completed"
    },
    "tags": []
   },
   "outputs": [],
   "source": [
    "MODEL_PATH = 'models/model.pt'\n",
    "TRAIN_PATH = 'train.csv'\n",
    "TEST_PATH = 'test.csv'\n",
    "\n",
    "NUM_EPOCHS1_and_2 = 500\n",
    "NUM_EPOCHS3 = 500\n",
    "BATCH_SIZE = 16\n",
    "device = torch.device(\"cuda:0\")\n",
    "# try device = \"cuda\" \n",
    "# and change your settings/accelerator to GPU if you want it to run faster"
   ]
  },
  {
   "cell_type": "code",
   "execution_count": 302,
   "outputs": [],
   "source": [
    "from torchvision.models import resnet18, ResNet18_Weights\n",
    "# resnet18(weights=ResNet18_Weights.IMAGENET1K_V1)\n",
    "# resnet18(weights=\"IMAGENET1K_V1\")\n",
    "# resnet18(pretrained=True)  # deprecated\n",
    "# resnet18(True)  # deprecated"
   ],
   "metadata": {
    "collapsed": false
   }
  },
  {
   "cell_type": "markdown",
   "source": [
    "Task1"
   ],
   "metadata": {
    "collapsed": false
   }
  },
  {
   "cell_type": "code",
   "execution_count": 303,
   "outputs": [],
   "source": [
    "class TaskDataset(Dataset):\n",
    "    def __init__(self, data, root, return_filename=False):\n",
    "        self.data = data\n",
    "\n",
    "        # print(self.data)\n",
    "\n",
    "        # self.data = make_dataset(TRAIN_PATH, alphabet, 36, 2)\n",
    "        self.return_filename = return_filename\n",
    "        self.root = root\n",
    "\n",
    "    def __getitem__(self, index):\n",
    "        data = self.data[index][:-1]\n",
    "        target = self.data[index][-1]\n",
    "        return torch.Tensor(data), torch.Tensor(np.array(target))\n",
    "\n",
    "    def __len__(self):\n",
    "        return len(self.data)"
   ],
   "metadata": {
    "collapsed": false
   }
  },
  {
   "cell_type": "code",
   "execution_count": 304,
   "outputs": [],
   "source": [
    "test_data = pd.read_csv(TEST_PATH)\n",
    "train_data = pd.read_csv(TRAIN_PATH)\n",
    "\n",
    "\n",
    "def clean(data):\n",
    "    le = LabelEncoder()\n",
    "\n",
    "    # Replace str by numbers\n",
    "    data = deepcopy(data)\n",
    "    cols = [\"attribute_0\"] + [\"attribute_1\"]\n",
    "    for col in cols:\n",
    "        data[col] = le.fit_transform(data[col])\n",
    "        #print(le.classes_)\n",
    "\n",
    "    data = data.drop(['id', 'product_code'], axis=1)\n",
    "\n",
    "    # None values\n",
    "    imputer = SimpleImputer(strategy='mean')\n",
    "    final_data = pd.DataFrame(imputer.fit_transform(data))\n",
    "\n",
    "    final_data.columns = data.columns\n",
    "\n",
    "    return final_data\n",
    "\n",
    "\n"
   ],
   "metadata": {
    "collapsed": false
   }
  },
  {
   "cell_type": "code",
   "execution_count": 305,
   "outputs": [],
   "source": [
    "train = clean(train_data)\n",
    "train = train.to_numpy()\n",
    "train_ds = TaskDataset(train, root=TRAIN_PATH)\n",
    "train_dl = DataLoader(train_ds, batch_size=BATCH_SIZE, drop_last=True, shuffle=True)\n",
    "# for x, y in train_ds:\n",
    "#     print(x,y)\n",
    "\n",
    "\n",
    "# val_ds = Task1Dataset(val_data, root=TRAIN_PATH)\n",
    "# val_dl = DataLoader(val_ds, batch_size=BATCH_SIZE, drop_last=False, shuffle=False)\n",
    "\n",
    "# train.head(5)"
   ],
   "metadata": {
    "collapsed": false
   }
  },
  {
   "cell_type": "code",
   "execution_count": 306,
   "outputs": [],
   "source": [
    "# dataloaders = {'train': train_dl, 'val': val_dl}\n",
    "# print(dataloaders['train'])\n",
    "# dataset_sizes = {'train': len(train_ds), 'val': len(val_ds)}\n",
    "# print(dataset_sizes)\n",
    "# X = train.drop('failure', axis=1).to_numpy()\n",
    "# Y = train['failure'].astype(np.int32)\n",
    "#\n",
    "# train_X, val_X, train_y, val_y = train_test_split(X, Y, test_size=0.2, shuffle=False)\n",
    "# train_y = train_y.to_numpy()\n",
    "# val_y = val_y.to_numpy()\n",
    "# val_y = val_y.reshape(val_y.shape[0], 1)\n",
    "# train_y = train_y.reshape(train_y.shape[0], 1)\n",
    "# trainloader = DataLoader(trainset,batch_size=64,shuffle=False)\n",
    "# print(val_y)"
   ],
   "metadata": {
    "collapsed": false
   }
  },
  {
   "cell_type": "code",
   "execution_count": 307,
   "outputs": [],
   "source": [
    "class Model(nn.Module):\n",
    "    def __init__(self, input_shape):\n",
    "        super(Model, self).__init__()\n",
    "        self.fc1 = nn.Linear(input_shape, 32)\n",
    "        self.fc2 = nn.Linear(32, 64)\n",
    "        self.fc3 = nn.Linear(64, 1)\n",
    "\n",
    "    def forward(self, x):\n",
    "        x = torch.relu(self.fc1(x))\n",
    "        x = torch.relu(self.fc2(x))\n",
    "        x = torch.sigmoid(self.fc3(x))\n",
    "        return x"
   ],
   "metadata": {
    "collapsed": false
   }
  },
  {
   "cell_type": "code",
   "execution_count": 308,
   "outputs": [],
   "source": [
    "model = Model(input_shape=23)\n",
    "optimizer = optim.Adam(model.parameters())\n",
    "loss_fn = nn.BCELoss()"
   ],
   "metadata": {
    "collapsed": false
   }
  },
  {
   "cell_type": "code",
   "execution_count": 309,
   "outputs": [
    {
     "data": {
      "text/plain": "  0%|          | 0/200 [00:00<?, ?it/s]",
      "application/vnd.jupyter.widget-view+json": {
       "version_major": 2,
       "version_minor": 0,
       "model_id": "d2499e03905848d3aaeef14385945b58"
      }
     },
     "metadata": {},
     "output_type": "display_data"
    },
    {
     "name": "stdout",
     "output_type": "stream",
     "text": [
      "epoch 0\tloss : 0.5234565734863281\n",
      "epoch 1\tloss : 0.3786967694759369\n",
      "epoch 2\tloss : 0.5458598136901855\n",
      "epoch 3\tloss : 0.6336781978607178\n",
      "epoch 4\tloss : 0.6712091565132141\n",
      "epoch 5\tloss : 0.36897745728492737\n",
      "epoch 6\tloss : 0.6319252252578735\n",
      "epoch 7\tloss : 0.5091646313667297\n",
      "epoch 8\tloss : 0.40208056569099426\n",
      "epoch 9\tloss : 0.6106840372085571\n",
      "epoch 10\tloss : 0.3016085624694824\n",
      "epoch 11\tloss : 0.6335844993591309\n",
      "epoch 12\tloss : 0.543166995048523\n",
      "epoch 13\tloss : 0.4748685657978058\n",
      "epoch 14\tloss : 0.44000810384750366\n",
      "epoch 15\tloss : 0.41066882014274597\n",
      "epoch 16\tloss : 0.5101428627967834\n",
      "epoch 17\tloss : 0.6618963479995728\n",
      "epoch 18\tloss : 0.55252605676651\n",
      "epoch 19\tloss : 0.4283812344074249\n",
      "epoch 20\tloss : 0.5846588015556335\n",
      "epoch 21\tloss : 0.4213239550590515\n",
      "epoch 22\tloss : 0.49106013774871826\n",
      "epoch 23\tloss : 0.7146326899528503\n",
      "epoch 24\tloss : 0.385090708732605\n",
      "epoch 25\tloss : 0.4933716952800751\n",
      "epoch 26\tloss : 0.47620630264282227\n",
      "epoch 27\tloss : 0.6480891108512878\n",
      "epoch 28\tloss : 0.6153678894042969\n",
      "epoch 29\tloss : 0.5635810494422913\n",
      "epoch 30\tloss : 0.30143868923187256\n",
      "epoch 31\tloss : 0.5054863691329956\n",
      "epoch 32\tloss : 0.465385377407074\n",
      "epoch 33\tloss : 0.30942821502685547\n",
      "epoch 34\tloss : 0.5320302248001099\n",
      "epoch 35\tloss : 0.42487043142318726\n",
      "epoch 36\tloss : 0.4521109163761139\n",
      "epoch 37\tloss : 0.3581683337688446\n",
      "epoch 38\tloss : 0.5893213748931885\n",
      "epoch 39\tloss : 0.49728190898895264\n",
      "epoch 40\tloss : 0.44438686966896057\n",
      "epoch 41\tloss : 0.47143810987472534\n",
      "epoch 42\tloss : 0.22645612061023712\n",
      "epoch 43\tloss : 0.8490152359008789\n",
      "epoch 44\tloss : 0.510999321937561\n",
      "epoch 45\tloss : 0.5443688631057739\n",
      "epoch 46\tloss : 0.6379470229148865\n",
      "epoch 47\tloss : 0.49941086769104004\n",
      "epoch 48\tloss : 0.4084659218788147\n",
      "epoch 49\tloss : 0.5431119203567505\n",
      "epoch 50\tloss : 0.5943940877914429\n",
      "epoch 51\tloss : 0.6034309267997742\n",
      "epoch 52\tloss : 0.28473562002182007\n",
      "epoch 53\tloss : 0.5109710693359375\n",
      "epoch 54\tloss : 0.478341281414032\n",
      "epoch 55\tloss : 0.5717618465423584\n",
      "epoch 56\tloss : 0.6010558009147644\n",
      "epoch 57\tloss : 0.44132405519485474\n",
      "epoch 58\tloss : 0.6020420789718628\n",
      "epoch 59\tloss : 0.5222980976104736\n",
      "epoch 60\tloss : 0.5427184104919434\n",
      "epoch 61\tloss : 0.44161295890808105\n",
      "epoch 62\tloss : 0.4930264949798584\n",
      "epoch 63\tloss : 0.5705088376998901\n",
      "epoch 64\tloss : 0.6993163824081421\n",
      "epoch 65\tloss : 0.5308660268783569\n",
      "epoch 66\tloss : 0.3602813482284546\n",
      "epoch 67\tloss : 0.46044135093688965\n",
      "epoch 68\tloss : 0.6435666680335999\n",
      "epoch 69\tloss : 0.590587854385376\n",
      "epoch 70\tloss : 0.3011646866798401\n",
      "epoch 71\tloss : 0.5380487442016602\n",
      "epoch 72\tloss : 0.4916968047618866\n",
      "epoch 73\tloss : 0.6329204440116882\n",
      "epoch 74\tloss : 0.7478816509246826\n",
      "epoch 75\tloss : 0.6119371056556702\n",
      "epoch 76\tloss : 0.3235871195793152\n",
      "epoch 77\tloss : 0.3271622955799103\n",
      "epoch 78\tloss : 0.32041996717453003\n",
      "epoch 79\tloss : 0.31329917907714844\n",
      "epoch 80\tloss : 0.4774617552757263\n",
      "epoch 81\tloss : 0.4013698101043701\n",
      "epoch 82\tloss : 0.5446479320526123\n",
      "epoch 83\tloss : 0.41774076223373413\n",
      "epoch 84\tloss : 0.8423840999603271\n",
      "epoch 85\tloss : 0.2545914947986603\n",
      "epoch 86\tloss : 0.6154961585998535\n",
      "epoch 87\tloss : 0.39921683073043823\n",
      "epoch 88\tloss : 0.4189659655094147\n",
      "epoch 89\tloss : 0.5340187549591064\n",
      "epoch 90\tloss : 0.3331274390220642\n",
      "epoch 91\tloss : 0.5617335438728333\n",
      "epoch 92\tloss : 0.7755553722381592\n",
      "epoch 93\tloss : 0.4161895215511322\n",
      "epoch 94\tloss : 0.390164852142334\n",
      "epoch 95\tloss : 0.4939766824245453\n",
      "epoch 96\tloss : 0.5778582096099854\n",
      "epoch 97\tloss : 0.5067282915115356\n",
      "epoch 98\tloss : 0.5316272974014282\n",
      "epoch 99\tloss : 0.27704769372940063\n",
      "epoch 100\tloss : 0.4279404878616333\n",
      "epoch 101\tloss : 0.5144760012626648\n",
      "epoch 102\tloss : 0.5206922888755798\n",
      "epoch 103\tloss : 0.42126160860061646\n",
      "epoch 104\tloss : 0.48615762591362\n",
      "epoch 105\tloss : 0.6037900447845459\n",
      "epoch 106\tloss : 0.6070398688316345\n",
      "epoch 107\tloss : 0.36114054918289185\n",
      "epoch 108\tloss : 0.39663949608802795\n",
      "epoch 109\tloss : 0.5702825784683228\n",
      "epoch 110\tloss : 0.5171120166778564\n",
      "epoch 111\tloss : 0.6876246333122253\n",
      "epoch 112\tloss : 0.4832668602466583\n",
      "epoch 113\tloss : 0.5759207606315613\n",
      "epoch 114\tloss : 0.48788851499557495\n",
      "epoch 115\tloss : 0.612701416015625\n",
      "epoch 116\tloss : 0.3629506528377533\n",
      "epoch 117\tloss : 0.5214818120002747\n",
      "epoch 118\tloss : 0.41606491804122925\n",
      "epoch 119\tloss : 0.5126034021377563\n",
      "epoch 120\tloss : 0.5223749279975891\n",
      "epoch 121\tloss : 0.6630232334136963\n",
      "epoch 122\tloss : 0.6033187508583069\n",
      "epoch 123\tloss : 0.45172396302223206\n",
      "epoch 124\tloss : 0.622898519039154\n",
      "epoch 125\tloss : 0.37880194187164307\n",
      "epoch 126\tloss : 0.8132739663124084\n",
      "epoch 127\tloss : 0.368424654006958\n",
      "epoch 128\tloss : 0.5660380125045776\n",
      "epoch 129\tloss : 0.4745408892631531\n",
      "epoch 130\tloss : 0.39080339670181274\n",
      "epoch 131\tloss : 0.4085741639137268\n",
      "epoch 132\tloss : 0.8154296875\n",
      "epoch 133\tloss : 0.4681839942932129\n",
      "epoch 134\tloss : 0.3493000864982605\n",
      "epoch 135\tloss : 0.7250595092773438\n",
      "epoch 136\tloss : 0.31259772181510925\n",
      "epoch 137\tloss : 0.5377626419067383\n",
      "epoch 138\tloss : 0.6049865484237671\n",
      "epoch 139\tloss : 0.5993250608444214\n",
      "epoch 140\tloss : 0.5109749436378479\n",
      "epoch 141\tloss : 0.463451087474823\n",
      "epoch 142\tloss : 0.48344969749450684\n",
      "epoch 143\tloss : 0.5917524099349976\n",
      "epoch 144\tloss : 0.5133049488067627\n",
      "epoch 145\tloss : 0.7958186268806458\n",
      "epoch 146\tloss : 0.2702398896217346\n",
      "epoch 147\tloss : 0.5923659801483154\n",
      "epoch 148\tloss : 0.5970937013626099\n",
      "epoch 149\tloss : 0.49348175525665283\n",
      "epoch 150\tloss : 0.4118666648864746\n",
      "epoch 151\tloss : 0.6244987845420837\n",
      "epoch 152\tloss : 0.41038936376571655\n",
      "epoch 153\tloss : 0.48018819093704224\n",
      "epoch 154\tloss : 0.5787489414215088\n",
      "epoch 155\tloss : 0.29853516817092896\n",
      "epoch 156\tloss : 0.33032986521720886\n",
      "epoch 157\tloss : 0.7396953105926514\n",
      "epoch 158\tloss : 0.528869092464447\n",
      "epoch 159\tloss : 0.347464919090271\n",
      "epoch 160\tloss : 0.4090893268585205\n",
      "epoch 161\tloss : 0.3631942868232727\n",
      "epoch 162\tloss : 0.23641672730445862\n",
      "epoch 163\tloss : 0.4070234000682831\n",
      "epoch 164\tloss : 0.6961581707000732\n",
      "epoch 165\tloss : 0.49493950605392456\n",
      "epoch 166\tloss : 0.37780970335006714\n",
      "epoch 167\tloss : 0.5564493536949158\n",
      "epoch 168\tloss : 0.34286507964134216\n",
      "epoch 169\tloss : 0.4798494875431061\n",
      "epoch 170\tloss : 0.47568508982658386\n",
      "epoch 171\tloss : 0.3822718858718872\n",
      "epoch 172\tloss : 0.5372507572174072\n",
      "epoch 173\tloss : 0.5344288945198059\n",
      "epoch 174\tloss : 0.6301050186157227\n",
      "epoch 175\tloss : 0.46294331550598145\n",
      "epoch 176\tloss : 0.58893883228302\n",
      "epoch 177\tloss : 0.3246232271194458\n",
      "epoch 178\tloss : 0.503189206123352\n",
      "epoch 179\tloss : 0.5963892340660095\n",
      "epoch 180\tloss : 0.4015260338783264\n",
      "epoch 181\tloss : 0.42624977231025696\n",
      "epoch 182\tloss : 0.46448835730552673\n",
      "epoch 183\tloss : 0.454528272151947\n",
      "epoch 184\tloss : 0.6897411346435547\n",
      "epoch 185\tloss : 0.4234321415424347\n",
      "epoch 186\tloss : 0.5975496768951416\n",
      "epoch 187\tloss : 0.6810107231140137\n",
      "epoch 188\tloss : 0.25965416431427\n",
      "epoch 189\tloss : 0.6706584692001343\n",
      "epoch 190\tloss : 0.3337674140930176\n",
      "epoch 191\tloss : 0.4972764551639557\n",
      "epoch 192\tloss : 0.22139191627502441\n",
      "epoch 193\tloss : 0.7603821754455566\n",
      "epoch 194\tloss : 0.5124118328094482\n",
      "epoch 195\tloss : 0.6149210929870605\n",
      "epoch 196\tloss : 0.6252624988555908\n",
      "epoch 197\tloss : 0.3851054608821869\n",
      "epoch 198\tloss : 0.8040064573287964\n",
      "epoch 199\tloss : 0.5623881816864014\n"
     ]
    }
   ],
   "source": [
    "losses = []\n",
    "accur = []\n",
    "for i in tqdm(range(200)):\n",
    "    for j, (x_train, y_train) in enumerate(train_dl):\n",
    "        # print(x_train)\n",
    "        #calculate output\n",
    "        output = model(x_train)\n",
    "\n",
    "        #calculate loss\n",
    "        loss = loss_fn(output, y_train.reshape(-1, 1))\n",
    "\n",
    "        #accuracy\n",
    "        #backprop\n",
    "        optimizer.zero_grad()\n",
    "        loss.backward()\n",
    "        optimizer.step()\n",
    "\n",
    "    if i % 1 == 0:\n",
    "        losses.append(loss)\n",
    "        print(\"epoch {}\\tloss : {}\".format(i, loss))"
   ],
   "metadata": {
    "collapsed": false
   }
  },
  {
   "cell_type": "code",
   "execution_count": 310,
   "outputs": [],
   "source": [
    "torch.save(model, 'model1.pt')\n"
   ],
   "metadata": {
    "collapsed": false
   }
  },
  {
   "cell_type": "code",
   "execution_count": 311,
   "outputs": [],
   "source": [
    "# from subprocess import check_output\n",
    "# import time\n",
    "# check_output(f'kaggle competitions submit -c tabular-playground-series-aug-2022 -f submission.csv -m \"{model}\"')\n",
    "# time.sleep(10)\n",
    "# result = check_output(f'kaggle competitions submissions -c tabular-playground-series-aug-2022', shell=True).decode()\n",
    "# x = result.find('complete')\n",
    "# score = float(result[x + 23:x + 30])"
   ],
   "metadata": {
    "collapsed": false
   }
  }
 ],
 "metadata": {
  "kernelspec": {
   "display_name": "Python 3",
   "language": "python",
   "name": "python3"
  },
  "language_info": {
   "codemirror_mode": {
    "name": "ipython",
    "version": 3
   },
   "file_extension": ".py",
   "mimetype": "text/x-python",
   "name": "python",
   "nbconvert_exporter": "python",
   "pygments_lexer": "ipython3",
   "version": "3.7.12"
  },
  "papermill": {
   "default_parameters": {},
   "duration": 242.076508,
   "end_time": "2022-11-25T04:54:16.697471",
   "environment_variables": {},
   "exception": null,
   "input_path": "__notebook__.ipynb",
   "output_path": "__notebook__.ipynb",
   "parameters": {},
   "start_time": "2022-11-25T04:50:14.620963",
   "version": "2.3.4"
  }
 },
 "nbformat": 4,
 "nbformat_minor": 5
}
