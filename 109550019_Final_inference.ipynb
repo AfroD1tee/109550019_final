{
 "cells": [
  {
   "cell_type": "code",
   "execution_count": 115,
   "outputs": [],
   "source": [
    "import csv\n",
    "import cv2\n",
    "import numpy as np\n",
    "import random\n",
    "import os\n",
    "import matplotlib.pyplot as plt\n",
    "from tqdm.auto import tqdm\n",
    "import torch\n",
    "import torch.nn as nn\n",
    "from torch.utils.data import Dataset, DataLoader\n",
    "from sklearn.preprocessing import LabelEncoder\n",
    "from sklearn.model_selection import train_test_split\n",
    "from sklearn.impute import SimpleImputer\n",
    "from copy import deepcopy\n",
    "import tensorflow as tf\n",
    "import tensorflow.keras.layers as tfl\n",
    "# from __future__ import print_function, division\n",
    "import torch.optim as optim\n",
    "from torch.optim import lr_scheduler\n",
    "import torch.backends.cudnn as cudnn\n",
    "import torchvision\n",
    "from torchvision import datasets, models, transforms\n",
    "import time\n",
    "import copy\n",
    "import pandas as pd"
   ],
   "metadata": {
    "collapsed": false
   }
  },
  {
   "cell_type": "code",
   "execution_count": 116,
   "outputs": [],
   "source": [
    "TRAIN_PATH = \"./train.csv\"#/kaggle/input/captcha-hacker/train\n",
    "TEST_PATH = \"./test.csv\"#/kaggle/input/captcha-hacker/test\n",
    "NUM_EPOCHS1_and_2 = 500\n",
    "NUM_EPOCHS3 = 500\n",
    "BATCH_SIZE = 16\n",
    "device = torch.device(\"cuda:0\")\n",
    "\n"
   ],
   "metadata": {
    "collapsed": false
   }
  },
  {
   "cell_type": "code",
   "execution_count": 117,
   "outputs": [],
   "source": [
    "class TestDataset(Dataset):\n",
    "    def __init__(self, data, root, return_filename=False):\n",
    "        self.data = data\n",
    "\n",
    "        # print(self.data)\n",
    "\n",
    "        # self.data = make_dataset(TRAIN_PATH, alphabet, 36, 2)\n",
    "        self.return_filename = return_filename\n",
    "        self.root = root\n",
    "\n",
    "    def __getitem__(self, index):\n",
    "        data = self.data[index]\n",
    "        return torch.Tensor(data)\n",
    "\n",
    "    def __len__(self):\n",
    "        return len(self.data)"
   ],
   "metadata": {
    "collapsed": false
   }
  },
  {
   "cell_type": "code",
   "execution_count": 118,
   "outputs": [],
   "source": [
    "def clean(data):\n",
    "    le = LabelEncoder()\n",
    "\n",
    "    # Replace str by numbers\n",
    "    data = deepcopy(data)\n",
    "    cols = [\"attribute_0\"] + [\"attribute_1\"]\n",
    "    for col in cols:\n",
    "        data[col] = le.fit_transform(data[col])\n",
    "        #print(le.classes_)\n",
    "\n",
    "    data = data.drop(['id', 'product_code'], axis=1)\n",
    "\n",
    "    # None values\n",
    "    imputer = SimpleImputer(strategy='mean')\n",
    "    final_data = pd.DataFrame(imputer.fit_transform(data))\n",
    "\n",
    "    final_data.columns = data.columns\n",
    "\n",
    "    return final_data"
   ],
   "metadata": {
    "collapsed": false
   }
  },
  {
   "cell_type": "code",
   "execution_count": 119,
   "outputs": [],
   "source": [
    "test_data = pd.read_csv(TEST_PATH)\n",
    "\n",
    "test_not_clean = test_data\n",
    "test_clean = clean(test_data)\n",
    "test = test_clean.to_numpy()\n",
    "\n",
    "test_ds = TestDataset(test, root=TEST_PATH)\n",
    "test_dl = DataLoader(test_ds, batch_size=1, drop_last=False, shuffle=False)"
   ],
   "metadata": {
    "collapsed": false
   }
  },
  {
   "cell_type": "code",
   "execution_count": 120,
   "outputs": [],
   "source": [
    "class Model(nn.Module):\n",
    "    def __init__(self, input_shape):\n",
    "        super(Model, self).__init__()\n",
    "        self.fc1 = nn.Linear(input_shape, 32)\n",
    "        self.fc2 = nn.Linear(32, 64)\n",
    "        self.fc3 = nn.Linear(64, 1)\n",
    "\n",
    "    def forward(self, x):\n",
    "        x = torch.relu(self.fc1(x))\n",
    "        x = torch.relu(self.fc2(x))\n",
    "        x = torch.sigmoid(self.fc3(x))\n",
    "        return x"
   ],
   "metadata": {
    "collapsed": false
   }
  },
  {
   "cell_type": "code",
   "execution_count": 121,
   "outputs": [
    {
     "data": {
      "text/plain": "  0%|          | 0/20775 [00:00<?, ?it/s]",
      "application/vnd.jupyter.widget-view+json": {
       "version_major": 2,
       "version_minor": 0,
       "model_id": "8acb6f75c695462e9a7d45afec188cf8"
      }
     },
     "metadata": {},
     "output_type": "display_data"
    },
    {
     "data": {
      "text/plain": "          id   failure\n0      26570  0.555318\n1      26571  0.546293\n2      26572  0.551362\n3      26573  0.554308\n4      26574  0.589645\n...      ...       ...\n20770  47340  0.562295\n20771  47341  0.541249\n20772  47342  0.537592\n20773  47343  0.557818\n20774  47344  0.543907\n\n[20775 rows x 2 columns]",
      "text/html": "<div>\n<style scoped>\n    .dataframe tbody tr th:only-of-type {\n        vertical-align: middle;\n    }\n\n    .dataframe tbody tr th {\n        vertical-align: top;\n    }\n\n    .dataframe thead th {\n        text-align: right;\n    }\n</style>\n<table border=\"1\" class=\"dataframe\">\n  <thead>\n    <tr style=\"text-align: right;\">\n      <th></th>\n      <th>id</th>\n      <th>failure</th>\n    </tr>\n  </thead>\n  <tbody>\n    <tr>\n      <th>0</th>\n      <td>26570</td>\n      <td>0.555318</td>\n    </tr>\n    <tr>\n      <th>1</th>\n      <td>26571</td>\n      <td>0.546293</td>\n    </tr>\n    <tr>\n      <th>2</th>\n      <td>26572</td>\n      <td>0.551362</td>\n    </tr>\n    <tr>\n      <th>3</th>\n      <td>26573</td>\n      <td>0.554308</td>\n    </tr>\n    <tr>\n      <th>4</th>\n      <td>26574</td>\n      <td>0.589645</td>\n    </tr>\n    <tr>\n      <th>...</th>\n      <td>...</td>\n      <td>...</td>\n    </tr>\n    <tr>\n      <th>20770</th>\n      <td>47340</td>\n      <td>0.562295</td>\n    </tr>\n    <tr>\n      <th>20771</th>\n      <td>47341</td>\n      <td>0.541249</td>\n    </tr>\n    <tr>\n      <th>20772</th>\n      <td>47342</td>\n      <td>0.537592</td>\n    </tr>\n    <tr>\n      <th>20773</th>\n      <td>47343</td>\n      <td>0.557818</td>\n    </tr>\n    <tr>\n      <th>20774</th>\n      <td>47344</td>\n      <td>0.543907</td>\n    </tr>\n  </tbody>\n</table>\n<p>20775 rows × 2 columns</p>\n</div>"
     },
     "execution_count": 121,
     "metadata": {},
     "output_type": "execute_result"
    }
   ],
   "source": [
    "model = torch.load('./model1.pt')\n",
    "model.eval()\n",
    "pred = []\n",
    "for x in tqdm(test_dl):\n",
    "    # print(x)\n",
    "    y_pred = model(x)\n",
    "    output = torch.sigmoid(y_pred)\n",
    "    output = output.cpu().detach().numpy()\n",
    "    for i in range(len(output)):\n",
    "        pred.append(output[i][0])\n",
    "result = pd.DataFrame({'id': test_not_clean['id'], 'failure': pred})\n",
    "result.to_csv('submission.csv', index=0)\n",
    "result\n"
   ],
   "metadata": {
    "collapsed": false
   }
  }
 ],
 "metadata": {
  "kernelspec": {
   "display_name": "Python 3",
   "language": "python",
   "name": "python3"
  },
  "language_info": {
   "codemirror_mode": {
    "name": "ipython",
    "version": 2
   },
   "file_extension": ".py",
   "mimetype": "text/x-python",
   "name": "python",
   "nbconvert_exporter": "python",
   "pygments_lexer": "ipython2",
   "version": "2.7.6"
  }
 },
 "nbformat": 4,
 "nbformat_minor": 0
}
